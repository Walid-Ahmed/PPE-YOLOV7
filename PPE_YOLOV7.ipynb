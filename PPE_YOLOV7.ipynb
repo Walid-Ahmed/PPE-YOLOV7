{
  "nbformat": 4,
  "nbformat_minor": 0,
  "metadata": {
    "colab": {
      "provenance": []
    },
    "kernelspec": {
      "name": "python3",
      "display_name": "Python 3"
    },
    "language_info": {
      "name": "python"
    }
  },
  "cells": [
    {
      "cell_type": "code",
      "execution_count": 1,
      "metadata": {
        "id": "8CDxI2zBh-mQ",
        "colab": {
          "base_uri": "https://localhost:8080/"
        },
        "outputId": "40a3cda8-8769-4ac8-b59c-1aac37847d6f"
      },
      "outputs": [
        {
          "output_type": "stream",
          "name": "stdout",
          "text": [
            "Cloning into 'PPE-YOLOV7'...\n",
            "remote: Enumerating objects: 125, done.\u001b[K\n",
            "remote: Counting objects: 100% (116/116), done.\u001b[K\n",
            "remote: Compressing objects: 100% (89/89), done.\u001b[K\n",
            "remote: Total 125 (delta 30), reused 100 (delta 23), pack-reused 9\u001b[K\n",
            "Receiving objects: 100% (125/125), 166.28 MiB | 43.05 MiB/s, done.\n",
            "Resolving deltas: 100% (30/30), done.\n"
          ]
        }
      ],
      "source": [
        "!git clone https://github.com/Walid-Ahmed/PPE-YOLOV7.git"
      ]
    },
    {
      "cell_type": "code",
      "source": [
        "%cd PPE-YOLOV7"
      ],
      "metadata": {
        "colab": {
          "base_uri": "https://localhost:8080/"
        },
        "id": "-A3zfPj84sSh",
        "outputId": "c414cffa-342c-4295-c93e-34d124666a93"
      },
      "execution_count": 2,
      "outputs": [
        {
          "output_type": "stream",
          "name": "stdout",
          "text": [
            "/content/PPE-YOLOV7\n"
          ]
        }
      ]
    },
    {
      "cell_type": "code",
      "source": [
        "!python detect.py --weights yolov7.pt --weights2 Helmet.pt --conf 0.3 --class 0  --object 0  --source Test.jpg"
      ],
      "metadata": {
        "colab": {
          "base_uri": "https://localhost:8080/"
        },
        "id": "gzJrEe0xiT6k",
        "outputId": "e283eb94-5e32-4406-ff3e-af50cc761556"
      },
      "execution_count": 4,
      "outputs": [
        {
          "output_type": "stream",
          "name": "stdout",
          "text": [
            "Namespace(agnostic_nms=False, augment=False, classes=[0], conf_thres=0.3, device='', exist_ok=False, img_size=640, iou_thres=0.45, name='exp', no_trace=False, nosave=False, objects=[0], project='runs/detect', save_conf=False, save_txt=False, source='Test.jpg', update=False, view_img=False, weights=['yolov7.pt'], weights2=['Helmet.pt'])\n",
            "YOLOR 🚀 a6919ad torch 1.12.1+cu113 CPU\n",
            "\n",
            "Fusing layers... \n",
            "RepConv.fuse_repvgg_block\n",
            "RepConv.fuse_repvgg_block\n",
            "RepConv.fuse_repvgg_block\n",
            "Model Summary: 306 layers, 36905341 parameters, 6652669 gradients\n",
            "Fusing layers... \n",
            "RepConv.fuse_repvgg_block\n",
            "RepConv.fuse_repvgg_block\n",
            "RepConv.fuse_repvgg_block\n",
            "IDetect.fuse\n",
            "Model Summary: 314 layers, 36503348 parameters, 6194944 gradients\n",
            " Convert model to Traced-model... \n",
            " traced_script_module saved! \n",
            " model is traced! \n",
            "\n",
            " Convert model to Traced-model... \n",
            " traced_script_module saved! \n",
            " model is traced! \n",
            "\n",
            "/usr/local/lib/python3.7/dist-packages/torch/functional.py:478: UserWarning: torch.meshgrid: in an upcoming release, it will be required to pass the indexing argument. (Triggered internally at  ../aten/src/ATen/native/TensorShape.cpp:2894.)\n",
            "  return _VF.meshgrid(tensors, **kwargs)  # type: ignore[attr-defined]\n",
            "3 persons, Done. (1786.4ms) Inference, (0.6ms) NMS\n",
            " The image with the result is saved in: runs/detect/exp2/Test.jpg\n",
            "Done. (6.943s)\n"
          ]
        }
      ]
    },
    {
      "cell_type": "code",
      "source": [
        "%cp -av \"/content/yolov7\" \"/content/drive/MyDrive/YOLO/yolo\""
      ],
      "metadata": {
        "colab": {
          "base_uri": "https://localhost:8080/"
        },
        "id": "3_mx8YX_tHOR",
        "outputId": "4bfcd2eb-3061-47bf-c2a2-7c25c4d7285d"
      },
      "execution_count": null,
      "outputs": [
        {
          "output_type": "stream",
          "name": "stdout",
          "text": [
            "'/content/yolov7' -> '/content/drive/MyDrive/YOLO/yolo'\n",
            "'/content/yolov7/yolov7.pt' -> '/content/drive/MyDrive/YOLO/yolo/yolov7.pt'\n",
            "'/content/yolov7/test.py' -> '/content/drive/MyDrive/YOLO/yolo/test.py'\n",
            "'/content/yolov7/data' -> '/content/drive/MyDrive/YOLO/yolo/data'\n",
            "'/content/yolov7/data/coco.yaml' -> '/content/drive/MyDrive/YOLO/yolo/data/coco.yaml'\n",
            "'/content/yolov7/data/hyp.scratch.p6.yaml' -> '/content/drive/MyDrive/YOLO/yolo/data/hyp.scratch.p6.yaml'\n",
            "'/content/yolov7/data/hyp.scratch.p5.yaml' -> '/content/drive/MyDrive/YOLO/yolo/data/hyp.scratch.p5.yaml'\n",
            "'/content/yolov7/data/hyp.scratch.tiny.yaml' -> '/content/drive/MyDrive/YOLO/yolo/data/hyp.scratch.tiny.yaml'\n",
            "'/content/yolov7/data/hyp.scratch.custom.yaml' -> '/content/drive/MyDrive/YOLO/yolo/data/hyp.scratch.custom.yaml'\n",
            "'/content/yolov7/requirements.txt' -> '/content/drive/MyDrive/YOLO/yolo/requirements.txt'\n",
            "'/content/yolov7/deploy' -> '/content/drive/MyDrive/YOLO/yolo/deploy'\n",
            "'/content/yolov7/deploy/triton-inference-server' -> '/content/drive/MyDrive/YOLO/yolo/deploy/triton-inference-server'\n",
            "'/content/yolov7/deploy/triton-inference-server/render.py' -> '/content/drive/MyDrive/YOLO/yolo/deploy/triton-inference-server/render.py'\n",
            "'/content/yolov7/deploy/triton-inference-server/boundingbox.py' -> '/content/drive/MyDrive/YOLO/yolo/deploy/triton-inference-server/boundingbox.py'\n",
            "'/content/yolov7/deploy/triton-inference-server/data' -> '/content/drive/MyDrive/YOLO/yolo/deploy/triton-inference-server/data'\n",
            "'/content/yolov7/deploy/triton-inference-server/data/dog.jpg' -> '/content/drive/MyDrive/YOLO/yolo/deploy/triton-inference-server/data/dog.jpg'\n",
            "'/content/yolov7/deploy/triton-inference-server/data/dog_result.jpg' -> '/content/drive/MyDrive/YOLO/yolo/deploy/triton-inference-server/data/dog_result.jpg'\n",
            "'/content/yolov7/deploy/triton-inference-server/processing.py' -> '/content/drive/MyDrive/YOLO/yolo/deploy/triton-inference-server/processing.py'\n",
            "'/content/yolov7/deploy/triton-inference-server/client.py' -> '/content/drive/MyDrive/YOLO/yolo/deploy/triton-inference-server/client.py'\n",
            "'/content/yolov7/deploy/triton-inference-server/README.md' -> '/content/drive/MyDrive/YOLO/yolo/deploy/triton-inference-server/README.md'\n",
            "'/content/yolov7/deploy/triton-inference-server/labels.py' -> '/content/drive/MyDrive/YOLO/yolo/deploy/triton-inference-server/labels.py'\n",
            "'/content/yolov7/figure' -> '/content/drive/MyDrive/YOLO/yolo/figure'\n",
            "'/content/yolov7/figure/tennis_panoptic.png' -> '/content/drive/MyDrive/YOLO/yolo/figure/tennis_panoptic.png'\n",
            "'/content/yolov7/figure/tennis_caption.png' -> '/content/drive/MyDrive/YOLO/yolo/figure/tennis_caption.png'\n",
            "'/content/yolov7/figure/mask.png' -> '/content/drive/MyDrive/YOLO/yolo/figure/mask.png'\n",
            "'/content/yolov7/figure/pose.png' -> '/content/drive/MyDrive/YOLO/yolo/figure/pose.png'\n",
            "'/content/yolov7/figure/horses_prediction.jpg' -> '/content/drive/MyDrive/YOLO/yolo/figure/horses_prediction.jpg'\n",
            "'/content/yolov7/figure/tennis.jpg' -> '/content/drive/MyDrive/YOLO/yolo/figure/tennis.jpg'\n",
            "'/content/yolov7/figure/performance.png' -> '/content/drive/MyDrive/YOLO/yolo/figure/performance.png'\n",
            "'/content/yolov7/figure/tennis_semantic.jpg' -> '/content/drive/MyDrive/YOLO/yolo/figure/tennis_semantic.jpg'\n",
            "'/content/yolov7/LICENSE.md' -> '/content/drive/MyDrive/YOLO/yolo/LICENSE.md'\n",
            "'/content/yolov7/inference' -> '/content/drive/MyDrive/YOLO/yolo/inference'\n",
            "'/content/yolov7/inference/images' -> '/content/drive/MyDrive/YOLO/yolo/inference/images'\n",
            "'/content/yolov7/inference/images/image2.jpg' -> '/content/drive/MyDrive/YOLO/yolo/inference/images/image2.jpg'\n",
            "'/content/yolov7/inference/images/bus.jpg' -> '/content/drive/MyDrive/YOLO/yolo/inference/images/bus.jpg'\n",
            "'/content/yolov7/inference/images/horses.jpg' -> '/content/drive/MyDrive/YOLO/yolo/inference/images/horses.jpg'\n",
            "'/content/yolov7/inference/images/image3.jpg' -> '/content/drive/MyDrive/YOLO/yolo/inference/images/image3.jpg'\n",
            "'/content/yolov7/inference/images/zidane.jpg' -> '/content/drive/MyDrive/YOLO/yolo/inference/images/zidane.jpg'\n",
            "'/content/yolov7/inference/images/image1.jpg' -> '/content/drive/MyDrive/YOLO/yolo/inference/images/image1.jpg'\n",
            "'/content/yolov7/.gitignore' -> '/content/drive/MyDrive/YOLO/yolo/.gitignore'\n",
            "'/content/yolov7/export.py' -> '/content/drive/MyDrive/YOLO/yolo/export.py'\n",
            "'/content/yolov7/hubconf.py' -> '/content/drive/MyDrive/YOLO/yolo/hubconf.py'\n",
            "'/content/yolov7/paper' -> '/content/drive/MyDrive/YOLO/yolo/paper'\n",
            "'/content/yolov7/paper/yolov7.pdf' -> '/content/drive/MyDrive/YOLO/yolo/paper/yolov7.pdf'\n",
            "'/content/yolov7/cfg' -> '/content/drive/MyDrive/YOLO/yolo/cfg'\n",
            "'/content/yolov7/cfg/baseline' -> '/content/drive/MyDrive/YOLO/yolo/cfg/baseline'\n",
            "'/content/yolov7/cfg/baseline/yolor-e6.yaml' -> '/content/drive/MyDrive/YOLO/yolo/cfg/baseline/yolor-e6.yaml'\n",
            "'/content/yolov7/cfg/baseline/r50-csp.yaml' -> '/content/drive/MyDrive/YOLO/yolo/cfg/baseline/r50-csp.yaml'\n",
            "'/content/yolov7/cfg/baseline/yolov3.yaml' -> '/content/drive/MyDrive/YOLO/yolo/cfg/baseline/yolov3.yaml'\n",
            "'/content/yolov7/cfg/baseline/yolov4-csp.yaml' -> '/content/drive/MyDrive/YOLO/yolo/cfg/baseline/yolov4-csp.yaml'\n",
            "'/content/yolov7/cfg/baseline/yolor-csp-x.yaml' -> '/content/drive/MyDrive/YOLO/yolo/cfg/baseline/yolor-csp-x.yaml'\n",
            "'/content/yolov7/cfg/baseline/yolor-p6.yaml' -> '/content/drive/MyDrive/YOLO/yolo/cfg/baseline/yolor-p6.yaml'\n",
            "'/content/yolov7/cfg/baseline/yolor-csp.yaml' -> '/content/drive/MyDrive/YOLO/yolo/cfg/baseline/yolor-csp.yaml'\n",
            "'/content/yolov7/cfg/baseline/x50-csp.yaml' -> '/content/drive/MyDrive/YOLO/yolo/cfg/baseline/x50-csp.yaml'\n",
            "'/content/yolov7/cfg/baseline/yolor-d6.yaml' -> '/content/drive/MyDrive/YOLO/yolo/cfg/baseline/yolor-d6.yaml'\n",
            "'/content/yolov7/cfg/baseline/yolor-w6.yaml' -> '/content/drive/MyDrive/YOLO/yolo/cfg/baseline/yolor-w6.yaml'\n",
            "'/content/yolov7/cfg/baseline/yolov3-spp.yaml' -> '/content/drive/MyDrive/YOLO/yolo/cfg/baseline/yolov3-spp.yaml'\n",
            "'/content/yolov7/cfg/deploy' -> '/content/drive/MyDrive/YOLO/yolo/cfg/deploy'\n",
            "'/content/yolov7/cfg/deploy/yolov7-d6.yaml' -> '/content/drive/MyDrive/YOLO/yolo/cfg/deploy/yolov7-d6.yaml'\n",
            "'/content/yolov7/cfg/deploy/yolov7.yaml' -> '/content/drive/MyDrive/YOLO/yolo/cfg/deploy/yolov7.yaml'\n",
            "'/content/yolov7/cfg/deploy/yolov7-tiny.yaml' -> '/content/drive/MyDrive/YOLO/yolo/cfg/deploy/yolov7-tiny.yaml'\n",
            "'/content/yolov7/cfg/deploy/yolov7-tiny-silu.yaml' -> '/content/drive/MyDrive/YOLO/yolo/cfg/deploy/yolov7-tiny-silu.yaml'\n",
            "'/content/yolov7/cfg/deploy/yolov7x.yaml' -> '/content/drive/MyDrive/YOLO/yolo/cfg/deploy/yolov7x.yaml'\n",
            "'/content/yolov7/cfg/deploy/yolov7-w6.yaml' -> '/content/drive/MyDrive/YOLO/yolo/cfg/deploy/yolov7-w6.yaml'\n",
            "'/content/yolov7/cfg/deploy/yolov7-e6e.yaml' -> '/content/drive/MyDrive/YOLO/yolo/cfg/deploy/yolov7-e6e.yaml'\n",
            "'/content/yolov7/cfg/deploy/yolov7-e6.yaml' -> '/content/drive/MyDrive/YOLO/yolo/cfg/deploy/yolov7-e6.yaml'\n",
            "'/content/yolov7/cfg/training' -> '/content/drive/MyDrive/YOLO/yolo/cfg/training'\n",
            "'/content/yolov7/cfg/training/yolov7x.yaml' -> '/content/drive/MyDrive/YOLO/yolo/cfg/training/yolov7x.yaml'\n",
            "'/content/yolov7/cfg/training/yolov7-e6.yaml' -> '/content/drive/MyDrive/YOLO/yolo/cfg/training/yolov7-e6.yaml'\n",
            "'/content/yolov7/cfg/training/yolov7-d6.yaml' -> '/content/drive/MyDrive/YOLO/yolo/cfg/training/yolov7-d6.yaml'\n",
            "'/content/yolov7/cfg/training/yolov7.yaml' -> '/content/drive/MyDrive/YOLO/yolo/cfg/training/yolov7.yaml'\n",
            "'/content/yolov7/cfg/training/yolov7-w6.yaml' -> '/content/drive/MyDrive/YOLO/yolo/cfg/training/yolov7-w6.yaml'\n",
            "'/content/yolov7/cfg/training/yolov7-tiny.yaml' -> '/content/drive/MyDrive/YOLO/yolo/cfg/training/yolov7-tiny.yaml'\n",
            "'/content/yolov7/cfg/training/yolov7-e6e.yaml' -> '/content/drive/MyDrive/YOLO/yolo/cfg/training/yolov7-e6e.yaml'\n",
            "'/content/yolov7/README.md' -> '/content/drive/MyDrive/YOLO/yolo/README.md'\n",
            "'/content/yolov7/train.py' -> '/content/drive/MyDrive/YOLO/yolo/train.py'\n",
            "'/content/yolov7/train_aux.py' -> '/content/drive/MyDrive/YOLO/yolo/train_aux.py'\n",
            "'/content/yolov7/t.jpg' -> '/content/drive/MyDrive/YOLO/yolo/t.jpg'\n",
            "'/content/yolov7/models' -> '/content/drive/MyDrive/YOLO/yolo/models'\n",
            "'/content/yolov7/models/yolo.py' -> '/content/drive/MyDrive/YOLO/yolo/models/yolo.py'\n",
            "'/content/yolov7/models/__init__.py' -> '/content/drive/MyDrive/YOLO/yolo/models/__init__.py'\n",
            "'/content/yolov7/models/experimental.py' -> '/content/drive/MyDrive/YOLO/yolo/models/experimental.py'\n",
            "'/content/yolov7/models/common.py' -> '/content/drive/MyDrive/YOLO/yolo/models/common.py'\n",
            "'/content/yolov7/models/__pycache__' -> '/content/drive/MyDrive/YOLO/yolo/models/__pycache__'\n",
            "'/content/yolov7/models/__pycache__/common.cpython-37.pyc' -> '/content/drive/MyDrive/YOLO/yolo/models/__pycache__/common.cpython-37.pyc'\n",
            "'/content/yolov7/models/__pycache__/experimental.cpython-37.pyc' -> '/content/drive/MyDrive/YOLO/yolo/models/__pycache__/experimental.cpython-37.pyc'\n",
            "'/content/yolov7/models/__pycache__/__init__.cpython-37.pyc' -> '/content/drive/MyDrive/YOLO/yolo/models/__pycache__/__init__.cpython-37.pyc'\n",
            "'/content/yolov7/models/__pycache__/yolo.cpython-37.pyc' -> '/content/drive/MyDrive/YOLO/yolo/models/__pycache__/yolo.cpython-37.pyc'\n",
            "'/content/yolov7/utils' -> '/content/drive/MyDrive/YOLO/yolo/utils'\n",
            "'/content/yolov7/utils/general.py' -> '/content/drive/MyDrive/YOLO/yolo/utils/general.py'\n",
            "'/content/yolov7/utils/torch_utils.py' -> '/content/drive/MyDrive/YOLO/yolo/utils/torch_utils.py'\n",
            "'/content/yolov7/utils/metrics.py' -> '/content/drive/MyDrive/YOLO/yolo/utils/metrics.py'\n",
            "'/content/yolov7/utils/datasets.py' -> '/content/drive/MyDrive/YOLO/yolo/utils/datasets.py'\n",
            "'/content/yolov7/utils/activations.py' -> '/content/drive/MyDrive/YOLO/yolo/utils/activations.py'\n",
            "'/content/yolov7/utils/add_nms.py' -> '/content/drive/MyDrive/YOLO/yolo/utils/add_nms.py'\n",
            "'/content/yolov7/utils/__init__.py' -> '/content/drive/MyDrive/YOLO/yolo/utils/__init__.py'\n",
            "'/content/yolov7/utils/autoanchor.py' -> '/content/drive/MyDrive/YOLO/yolo/utils/autoanchor.py'\n",
            "'/content/yolov7/utils/google_utils.py' -> '/content/drive/MyDrive/YOLO/yolo/utils/google_utils.py'\n",
            "'/content/yolov7/utils/loss.py' -> '/content/drive/MyDrive/YOLO/yolo/utils/loss.py'\n",
            "'/content/yolov7/utils/plots.py' -> '/content/drive/MyDrive/YOLO/yolo/utils/plots.py'\n",
            "'/content/yolov7/utils/aws' -> '/content/drive/MyDrive/YOLO/yolo/utils/aws'\n",
            "'/content/yolov7/utils/aws/resume.py' -> '/content/drive/MyDrive/YOLO/yolo/utils/aws/resume.py'\n",
            "'/content/yolov7/utils/aws/userdata.sh' -> '/content/drive/MyDrive/YOLO/yolo/utils/aws/userdata.sh'\n",
            "'/content/yolov7/utils/aws/__init__.py' -> '/content/drive/MyDrive/YOLO/yolo/utils/aws/__init__.py'\n",
            "'/content/yolov7/utils/aws/mime.sh' -> '/content/drive/MyDrive/YOLO/yolo/utils/aws/mime.sh'\n",
            "'/content/yolov7/utils/google_app_engine' -> '/content/drive/MyDrive/YOLO/yolo/utils/google_app_engine'\n",
            "'/content/yolov7/utils/google_app_engine/app.yaml' -> '/content/drive/MyDrive/YOLO/yolo/utils/google_app_engine/app.yaml'\n",
            "'/content/yolov7/utils/google_app_engine/Dockerfile' -> '/content/drive/MyDrive/YOLO/yolo/utils/google_app_engine/Dockerfile'\n",
            "'/content/yolov7/utils/google_app_engine/additional_requirements.txt' -> '/content/drive/MyDrive/YOLO/yolo/utils/google_app_engine/additional_requirements.txt'\n",
            "'/content/yolov7/utils/wandb_logging' -> '/content/drive/MyDrive/YOLO/yolo/utils/wandb_logging'\n",
            "'/content/yolov7/utils/wandb_logging/__init__.py' -> '/content/drive/MyDrive/YOLO/yolo/utils/wandb_logging/__init__.py'\n",
            "'/content/yolov7/utils/wandb_logging/wandb_utils.py' -> '/content/drive/MyDrive/YOLO/yolo/utils/wandb_logging/wandb_utils.py'\n",
            "'/content/yolov7/utils/wandb_logging/log_dataset.py' -> '/content/drive/MyDrive/YOLO/yolo/utils/wandb_logging/log_dataset.py'\n",
            "'/content/yolov7/utils/__pycache__' -> '/content/drive/MyDrive/YOLO/yolo/utils/__pycache__'\n",
            "'/content/yolov7/utils/__pycache__/metrics.cpython-37.pyc' -> '/content/drive/MyDrive/YOLO/yolo/utils/__pycache__/metrics.cpython-37.pyc'\n",
            "'/content/yolov7/utils/__pycache__/__init__.cpython-37.pyc' -> '/content/drive/MyDrive/YOLO/yolo/utils/__pycache__/__init__.cpython-37.pyc'\n",
            "'/content/yolov7/utils/__pycache__/general.cpython-37.pyc' -> '/content/drive/MyDrive/YOLO/yolo/utils/__pycache__/general.cpython-37.pyc'\n",
            "'/content/yolov7/utils/__pycache__/datasets.cpython-37.pyc' -> '/content/drive/MyDrive/YOLO/yolo/utils/__pycache__/datasets.cpython-37.pyc'\n",
            "'/content/yolov7/utils/__pycache__/google_utils.cpython-37.pyc' -> '/content/drive/MyDrive/YOLO/yolo/utils/__pycache__/google_utils.cpython-37.pyc'\n",
            "'/content/yolov7/utils/__pycache__/torch_utils.cpython-37.pyc' -> '/content/drive/MyDrive/YOLO/yolo/utils/__pycache__/torch_utils.cpython-37.pyc'\n",
            "'/content/yolov7/utils/__pycache__/plots.cpython-37.pyc' -> '/content/drive/MyDrive/YOLO/yolo/utils/__pycache__/plots.cpython-37.pyc'\n",
            "'/content/yolov7/utils/__pycache__/autoanchor.cpython-37.pyc' -> '/content/drive/MyDrive/YOLO/yolo/utils/__pycache__/autoanchor.cpython-37.pyc'\n",
            "'/content/yolov7/utils/__pycache__/loss.cpython-37.pyc' -> '/content/drive/MyDrive/YOLO/yolo/utils/__pycache__/loss.cpython-37.pyc'\n",
            "'/content/yolov7/detect.py' -> '/content/drive/MyDrive/YOLO/yolo/detect.py'\n",
            "'/content/yolov7/runs' -> '/content/drive/MyDrive/YOLO/yolo/runs'\n",
            "'/content/yolov7/runs/detect' -> '/content/drive/MyDrive/YOLO/yolo/runs/detect'\n",
            "'/content/yolov7/runs/detect/exp' -> '/content/drive/MyDrive/YOLO/yolo/runs/detect/exp'\n",
            "'/content/yolov7/runs/detect/exp/t.jpg' -> '/content/drive/MyDrive/YOLO/yolo/runs/detect/exp/t.jpg'\n",
            "'/content/yolov7/runs/detect/exp2' -> '/content/drive/MyDrive/YOLO/yolo/runs/detect/exp2'\n",
            "'/content/yolov7/runs/detect/exp2/t.jpg' -> '/content/drive/MyDrive/YOLO/yolo/runs/detect/exp2/t.jpg'\n",
            "'/content/yolov7/runs/detect/exp3' -> '/content/drive/MyDrive/YOLO/yolo/runs/detect/exp3'\n",
            "'/content/yolov7/runs/detect/exp3/t.jpg' -> '/content/drive/MyDrive/YOLO/yolo/runs/detect/exp3/t.jpg'\n",
            "'/content/yolov7/traced_model.pt' -> '/content/drive/MyDrive/YOLO/yolo/traced_model.pt'\n",
            "'/content/yolov7/.git' -> '/content/drive/MyDrive/YOLO/yolo/.git'\n",
            "'/content/yolov7/.git/description' -> '/content/drive/MyDrive/YOLO/yolo/.git/description'\n",
            "'/content/yolov7/.git/branches' -> '/content/drive/MyDrive/YOLO/yolo/.git/branches'\n",
            "'/content/yolov7/.git/objects' -> '/content/drive/MyDrive/YOLO/yolo/.git/objects'\n",
            "'/content/yolov7/.git/objects/info' -> '/content/drive/MyDrive/YOLO/yolo/.git/objects/info'\n",
            "'/content/yolov7/.git/objects/pack' -> '/content/drive/MyDrive/YOLO/yolo/.git/objects/pack'\n",
            "'/content/yolov7/.git/objects/pack/pack-a4de337dbcd92c91654d75f09a3c68d6d5588add.pack' -> '/content/drive/MyDrive/YOLO/yolo/.git/objects/pack/pack-a4de337dbcd92c91654d75f09a3c68d6d5588add.pack'\n",
            "'/content/yolov7/.git/objects/pack/pack-a4de337dbcd92c91654d75f09a3c68d6d5588add.idx' -> '/content/drive/MyDrive/YOLO/yolo/.git/objects/pack/pack-a4de337dbcd92c91654d75f09a3c68d6d5588add.idx'\n",
            "'/content/yolov7/.git/refs' -> '/content/drive/MyDrive/YOLO/yolo/.git/refs'\n",
            "'/content/yolov7/.git/refs/tags' -> '/content/drive/MyDrive/YOLO/yolo/.git/refs/tags'\n",
            "'/content/yolov7/.git/refs/remotes' -> '/content/drive/MyDrive/YOLO/yolo/.git/refs/remotes'\n",
            "'/content/yolov7/.git/refs/remotes/origin' -> '/content/drive/MyDrive/YOLO/yolo/.git/refs/remotes/origin'\n",
            "'/content/yolov7/.git/refs/remotes/origin/HEAD' -> '/content/drive/MyDrive/YOLO/yolo/.git/refs/remotes/origin/HEAD'\n",
            "'/content/yolov7/.git/refs/heads' -> '/content/drive/MyDrive/YOLO/yolo/.git/refs/heads'\n",
            "'/content/yolov7/.git/refs/heads/main' -> '/content/drive/MyDrive/YOLO/yolo/.git/refs/heads/main'\n",
            "'/content/yolov7/.git/HEAD' -> '/content/drive/MyDrive/YOLO/yolo/.git/HEAD'\n",
            "'/content/yolov7/.git/config' -> '/content/drive/MyDrive/YOLO/yolo/.git/config'\n",
            "'/content/yolov7/.git/packed-refs' -> '/content/drive/MyDrive/YOLO/yolo/.git/packed-refs'\n",
            "'/content/yolov7/.git/index' -> '/content/drive/MyDrive/YOLO/yolo/.git/index'\n",
            "'/content/yolov7/.git/hooks' -> '/content/drive/MyDrive/YOLO/yolo/.git/hooks'\n",
            "'/content/yolov7/.git/hooks/applypatch-msg.sample' -> '/content/drive/MyDrive/YOLO/yolo/.git/hooks/applypatch-msg.sample'\n",
            "'/content/yolov7/.git/hooks/pre-rebase.sample' -> '/content/drive/MyDrive/YOLO/yolo/.git/hooks/pre-rebase.sample'\n",
            "'/content/yolov7/.git/hooks/pre-push.sample' -> '/content/drive/MyDrive/YOLO/yolo/.git/hooks/pre-push.sample'\n",
            "'/content/yolov7/.git/hooks/prepare-commit-msg.sample' -> '/content/drive/MyDrive/YOLO/yolo/.git/hooks/prepare-commit-msg.sample'\n",
            "'/content/yolov7/.git/hooks/pre-receive.sample' -> '/content/drive/MyDrive/YOLO/yolo/.git/hooks/pre-receive.sample'\n",
            "'/content/yolov7/.git/hooks/fsmonitor-watchman.sample' -> '/content/drive/MyDrive/YOLO/yolo/.git/hooks/fsmonitor-watchman.sample'\n",
            "'/content/yolov7/.git/hooks/pre-applypatch.sample' -> '/content/drive/MyDrive/YOLO/yolo/.git/hooks/pre-applypatch.sample'\n",
            "'/content/yolov7/.git/hooks/commit-msg.sample' -> '/content/drive/MyDrive/YOLO/yolo/.git/hooks/commit-msg.sample'\n",
            "'/content/yolov7/.git/hooks/update.sample' -> '/content/drive/MyDrive/YOLO/yolo/.git/hooks/update.sample'\n",
            "'/content/yolov7/.git/hooks/pre-commit.sample' -> '/content/drive/MyDrive/YOLO/yolo/.git/hooks/pre-commit.sample'\n",
            "'/content/yolov7/.git/hooks/post-update.sample' -> '/content/drive/MyDrive/YOLO/yolo/.git/hooks/post-update.sample'\n",
            "'/content/yolov7/.git/info' -> '/content/drive/MyDrive/YOLO/yolo/.git/info'\n",
            "'/content/yolov7/.git/info/exclude' -> '/content/drive/MyDrive/YOLO/yolo/.git/info/exclude'\n",
            "'/content/yolov7/.git/logs' -> '/content/drive/MyDrive/YOLO/yolo/.git/logs'\n",
            "'/content/yolov7/.git/logs/refs' -> '/content/drive/MyDrive/YOLO/yolo/.git/logs/refs'\n",
            "'/content/yolov7/.git/logs/refs/remotes' -> '/content/drive/MyDrive/YOLO/yolo/.git/logs/refs/remotes'\n",
            "'/content/yolov7/.git/logs/refs/remotes/origin' -> '/content/drive/MyDrive/YOLO/yolo/.git/logs/refs/remotes/origin'\n",
            "'/content/yolov7/.git/logs/refs/remotes/origin/HEAD' -> '/content/drive/MyDrive/YOLO/yolo/.git/logs/refs/remotes/origin/HEAD'\n",
            "'/content/yolov7/.git/logs/refs/heads' -> '/content/drive/MyDrive/YOLO/yolo/.git/logs/refs/heads'\n",
            "'/content/yolov7/.git/logs/refs/heads/main' -> '/content/drive/MyDrive/YOLO/yolo/.git/logs/refs/heads/main'\n",
            "'/content/yolov7/.git/logs/HEAD' -> '/content/drive/MyDrive/YOLO/yolo/.git/logs/HEAD'\n",
            "'/content/yolov7/scripts' -> '/content/drive/MyDrive/YOLO/yolo/scripts'\n",
            "'/content/yolov7/scripts/get_coco.sh' -> '/content/drive/MyDrive/YOLO/yolo/scripts/get_coco.sh'\n",
            "'/content/yolov7/tools' -> '/content/drive/MyDrive/YOLO/yolo/tools'\n",
            "'/content/yolov7/tools/YOLOv7-Dynamic-Batch-ONNXRUNTIME.ipynb' -> '/content/drive/MyDrive/YOLO/yolo/tools/YOLOv7-Dynamic-Batch-ONNXRUNTIME.ipynb'\n",
            "'/content/yolov7/tools/YOLOv7CoreML.ipynb' -> '/content/drive/MyDrive/YOLO/yolo/tools/YOLOv7CoreML.ipynb'\n",
            "'/content/yolov7/tools/YOLOv7-Dynamic-Batch-TENSORRT.ipynb' -> '/content/drive/MyDrive/YOLO/yolo/tools/YOLOv7-Dynamic-Batch-TENSORRT.ipynb'\n",
            "'/content/yolov7/tools/YOLOv7trt.ipynb' -> '/content/drive/MyDrive/YOLO/yolo/tools/YOLOv7trt.ipynb'\n",
            "'/content/yolov7/tools/YOLOv7onnx.ipynb' -> '/content/drive/MyDrive/YOLO/yolo/tools/YOLOv7onnx.ipynb'\n",
            "'/content/yolov7/tools/compare_YOLOv7_vs_YOLOv5s6.ipynb' -> '/content/drive/MyDrive/YOLO/yolo/tools/compare_YOLOv7_vs_YOLOv5s6.ipynb'\n",
            "'/content/yolov7/tools/instance.ipynb' -> '/content/drive/MyDrive/YOLO/yolo/tools/instance.ipynb'\n",
            "'/content/yolov7/tools/compare_YOLOv7_vs_YOLOv5m6_half.ipynb' -> '/content/drive/MyDrive/YOLO/yolo/tools/compare_YOLOv7_vs_YOLOv5m6_half.ipynb'\n",
            "'/content/yolov7/tools/compare_YOLOv7_vs_YOLOv5m6.ipynb' -> '/content/drive/MyDrive/YOLO/yolo/tools/compare_YOLOv7_vs_YOLOv5m6.ipynb'\n",
            "'/content/yolov7/tools/visualization.ipynb' -> '/content/drive/MyDrive/YOLO/yolo/tools/visualization.ipynb'\n",
            "'/content/yolov7/tools/compare_YOLOv7e6_vs_YOLOv5x6.ipynb' -> '/content/drive/MyDrive/YOLO/yolo/tools/compare_YOLOv7e6_vs_YOLOv5x6.ipynb'\n",
            "'/content/yolov7/tools/reparameterization.ipynb' -> '/content/drive/MyDrive/YOLO/yolo/tools/reparameterization.ipynb'\n",
            "'/content/yolov7/tools/compare_YOLOv7e6_vs_YOLOv5x6_half.ipynb' -> '/content/drive/MyDrive/YOLO/yolo/tools/compare_YOLOv7e6_vs_YOLOv5x6_half.ipynb'\n",
            "'/content/yolov7/tools/keypoint.ipynb' -> '/content/drive/MyDrive/YOLO/yolo/tools/keypoint.ipynb'\n",
            "'/content/yolov7/helmet.pt' -> '/content/drive/MyDrive/YOLO/yolo/helmet.pt'\n"
          ]
        }
      ]
    }
  ]
}