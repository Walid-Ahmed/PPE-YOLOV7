{
  "cells": [
    {
      "cell_type": "markdown",
      "source": [
        "# **Preparing**"
      ],
      "metadata": {
        "id": "vMYE4IggCQdL"
      }
    },
    {
      "cell_type": "code",
      "execution_count": null,
      "metadata": {
        "id": "sO7mHNUc_jvZ"
      },
      "outputs": [],
      "source": [
        "! git clone https://github.com/Walid-Ahmed/PPE-YOLOV7\n",
        "%cd PPE-YOLOV7\n",
        "!pip install -r requirements.txt\n",
        "!wget https://github.com/WongKinYiu/yolov7/releases/download/v0.1/yolov7_training.pt"
      ]
    },
    {
      "cell_type": "markdown",
      "source": [
        "# **Downloading Dataset**"
      ],
      "metadata": {
        "id": "Pg5fikrgCI7y"
      }
    },
    {
      "cell_type": "code",
      "execution_count": null,
      "metadata": {
        "id": "Ga1lSOgnAxox"
      },
      "outputs": [],
      "source": [
        "!pip install roboflow\n",
        "from roboflow import Roboflow\n",
        "rf = Roboflow(api_key=\"XIlY9lWfvL5J5CVMeeDu\")\n",
        "project = rf.workspace(\"project-work-qsshk\").project(\"ppe-train\")\n",
        "dataset = project.version(4).download(\"yolov7\")"
      ]
    },
    {
      "cell_type": "markdown",
      "source": [
        "# **Training**"
      ],
      "metadata": {
        "id": "vVHdDR8ICFt4"
      }
    },
    {
      "cell_type": "code",
      "execution_count": null,
      "metadata": {
        "id": "1iqOPKjr22mL"
      },
      "outputs": [],
      "source": [
        "!python train.py --batch 12 --epochs 10 --data PPE-train-4/data.yaml --weights yolov7_training.pt --device 0 "
      ]
    },
    {
      "cell_type": "markdown",
      "source": [
        "# **Testing**"
      ],
      "metadata": {
        "id": "oi2wbwAjCCdC"
      }
    },
    {
      "cell_type": "code",
      "execution_count": null,
      "metadata": {
        "id": "N4cfnLtTCIce"
      },
      "outputs": [],
      "source": [
        "!python detect.py --weights runs/train/exp/weights/best.pt --conf 0.1 --source Test.jpg"
      ]
    }
  ],
  "metadata": {
    "accelerator": "GPU",
    "colab": {
      "collapsed_sections": [],
      "provenance": []
    },
    "kernelspec": {
      "display_name": "Python 3",
      "name": "python3"
    },
    "language_info": {
      "name": "python"
    },
    "gpuClass": "standard"
  },
  "nbformat": 4,
  "nbformat_minor": 0
}